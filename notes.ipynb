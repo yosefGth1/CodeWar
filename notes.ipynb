{
 "cells": [
  {
   "cell_type": "code",
   "execution_count": 1,
   "metadata": {},
   "outputs": [
    {
     "name": "stdout",
     "output_type": "stream",
     "text": [
      "True\n"
     ]
    }
   ],
   "source": [
    "import torch\n",
    "print(torch.cuda.is_available())\n",
    "\n"
   ]
  },
  {
   "cell_type": "code",
   "execution_count": 2,
   "metadata": {},
   "outputs": [],
   "source": [
    "import torch\n",
    "torch.cuda.set_device(0)\n"
   ]
  },
  {
   "cell_type": "code",
   "execution_count": 20,
   "metadata": {},
   "outputs": [
    {
     "ename": "ModuleNotFoundError",
     "evalue": "No module named 'bard'",
     "output_type": "error",
     "traceback": [
      "\u001b[1;31m---------------------------------------------------------------------------\u001b[0m",
      "\u001b[1;31mModuleNotFoundError\u001b[0m                       Traceback (most recent call last)",
      "Cell \u001b[1;32mIn[20], line 1\u001b[0m\n\u001b[1;32m----> 1\u001b[0m \u001b[39mimport\u001b[39;00m \u001b[39mbard\u001b[39;00m\n\u001b[0;32m      3\u001b[0m \u001b[39m# Create a Bard client object.\u001b[39;00m\n\u001b[0;32m      4\u001b[0m client \u001b[39m=\u001b[39m bard\u001b[39m.\u001b[39mClient()\n",
      "\u001b[1;31mModuleNotFoundError\u001b[0m: No module named 'bard'"
     ]
    },
    {
     "ename": "",
     "evalue": "",
     "output_type": "error",
     "traceback": [
      "\u001b[1;31mThe Kernel crashed while executing code in the the current cell or a previous cell. Please review the code in the cell(s) to identify a possible cause of the failure. Click <a href='https://aka.ms/vscodeJupyterKernelCrash'>here</a> for more info. View Jupyter <a href='command:jupyter.viewOutput'>log</a> for further details."
     ]
    }
   ],
   "source": [
    "import bard\n",
    "\n",
    "# Create a Bard client object.\n",
    "client = bard.Client()\n",
    "\n",
    "# Authenticate to the Bard API.\n",
    "client.authenticate()\n",
    "\n",
    "# Print a message to confirm that you have authenticated successfully.\n",
    "print(\"Authenticated successfully!\")\n"
   ]
  },
  {
   "cell_type": "code",
   "execution_count": 1,
   "metadata": {},
   "outputs": [
    {
     "name": "stdout",
     "output_type": "stream",
     "text": [
      "[('Toomlal', [], ['נ.ק ימס דרום.mp4'])]\n"
     ]
    },
    {
     "data": {
      "text/plain": [
       "['נ.ק ימס דרום.mp4']"
      ]
     },
     "execution_count": 1,
     "metadata": {},
     "output_type": "execute_result"
    }
   ],
   "source": [
    "import os\n",
    "DIRS = os.walk(\"Toomlal\")\n",
    "LS = [i for i in DIRS]\n",
    "print(LS)\n",
    "LS[0][2]"
   ]
  },
  {
   "cell_type": "code",
   "execution_count": 2,
   "metadata": {},
   "outputs": [],
   "source": [
    "from pydub import AudioSegment\n",
    "for i in LS[0][2]:\n",
    "    ext = i.split(\".\")[-1]\n",
    "    sound = AudioSegment.from_file(f\"Toomlal/{i}\", format=\"mp4\")\n",
    "    sound.export(f\"{i.replace(ext,'')}wav\", format=\"wav\")\n"
   ]
  },
  {
   "cell_type": "code",
   "execution_count": 4,
   "metadata": {},
   "outputs": [
    {
     "data": {
      "text/plain": [
       "<_io.BufferedRandom name='shlomi_levi_sderot.mp3'>"
      ]
     },
     "execution_count": 4,
     "metadata": {},
     "output_type": "execute_result"
    }
   ],
   "source": [
    "from pydub import AudioSegment\n",
    "sound = AudioSegment.from_file(\"shlomi_levi_sderot.mp4\", format=\"mp4\")\n",
    "sound.export(\"shlomi_levi_sderot.mp3\", format=\"mp3\")\n"
   ]
  },
  {
   "cell_type": "code",
   "execution_count": 4,
   "metadata": {},
   "outputs": [
    {
     "data": {
      "text/plain": [
       "'txt'"
      ]
     },
     "execution_count": 4,
     "metadata": {},
     "output_type": "execute_result"
    }
   ],
   "source": [
    "file_name = \"file.txt\"\n",
    "file_name.split('.')[-1]"
   ]
  },
  {
   "cell_type": "code",
   "execution_count": null,
   "metadata": {},
   "outputs": [],
   "source": []
  },
  {
   "cell_type": "code",
   "execution_count": 16,
   "metadata": {},
   "outputs": [
    {
     "data": {
      "text/plain": [
       "'c:\\\\Users\\\\userx\\\\Desktop\\\\PROJECTS\\\\war\\\\2.11.2023 סיכום ראיון - שלומי מגוז.docx\\\\filename'"
      ]
     },
     "execution_count": 16,
     "metadata": {},
     "output_type": "execute_result"
    }
   ],
   "source": [
    "os.path.join(os.path.abspath(\"2.11.2023 סיכום ראיון - שלומי מגוז.docx\"),\"filename\")"
   ]
  },
  {
   "cell_type": "markdown",
   "metadata": {},
   "source": [
    "pip install -U openai-whisper\n",
    "\n",
    "Uninstall pytorch\n",
    "\n",
    "pip3 uninstall torch torchvision torchaudio\n",
    "pip 3 cache purge\n",
    "Install cuda-python and Torch cuda\n",
    "pip install cuda-python\n",
    "\n",
    "To install pytorch you can choose your version from the pytorch website https://pytorch.org/ see INSTALL PYTORCH section\n",
    "\n",
    "pip3 install torch torchvision torchaudio --index-url https://download.pytorch.org/whl/cu118"
   ]
  }
 ],
 "metadata": {
  "kernelspec": {
   "display_name": "Python 3",
   "language": "python",
   "name": "python3"
  },
  "language_info": {
   "codemirror_mode": {
    "name": "ipython",
    "version": 3
   },
   "file_extension": ".py",
   "mimetype": "text/x-python",
   "name": "python",
   "nbconvert_exporter": "python",
   "pygments_lexer": "ipython3",
   "version": "3.11.6"
  },
  "orig_nbformat": 4
 },
 "nbformat": 4,
 "nbformat_minor": 2
}
