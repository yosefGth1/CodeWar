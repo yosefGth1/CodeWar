{
 "cells": [
  {
   "cell_type": "code",
   "execution_count": 3,
   "metadata": {},
   "outputs": [
    {
     "name": "stdout",
     "output_type": "stream",
     "text": [
      "True\n"
     ]
    }
   ],
   "source": [
    "import torch\n",
    "print(torch.cuda.is_available())\n",
    "\n"
   ]
  },
  {
   "cell_type": "code",
   "execution_count": 2,
   "metadata": {},
   "outputs": [],
   "source": [
    "import torch\n",
    "torch.cuda.set_device(0)\n"
   ]
  },
  {
   "cell_type": "code",
   "execution_count": 8,
   "metadata": {},
   "outputs": [
    {
     "name": "stdout",
     "output_type": "stream",
     "text": [
      "[('Toomlal', [], ['12.10.23 (5).mp3', '12.10.23 (5).txt', '13.10.23.mp3', '13.10.23.txt', '16.10.23 (K).mp3', '16.10.23 (K).txt', '16.10.23.mp3', '17.10.23 (K).mp3', '17.10.23.mp3', '18.10.23.mp3', '24.10.23 (2).mp3', '24.10.23 (K).mp3', '27.10.23.mp3', '29.10.23 (1).mp3', '31.10.23 (K).mp3', '7.10.23 (1).mp3', '7.10.23 (2).mp3'])]\n"
     ]
    },
    {
     "data": {
      "text/plain": [
       "['12.10.23 (5).mp3',\n",
       " '12.10.23 (5).txt',\n",
       " '13.10.23.mp3',\n",
       " '13.10.23.txt',\n",
       " '16.10.23 (K).mp3',\n",
       " '16.10.23 (K).txt',\n",
       " '16.10.23.mp3',\n",
       " '17.10.23 (K).mp3',\n",
       " '17.10.23.mp3',\n",
       " '18.10.23.mp3',\n",
       " '24.10.23 (2).mp3',\n",
       " '24.10.23 (K).mp3',\n",
       " '27.10.23.mp3',\n",
       " '29.10.23 (1).mp3',\n",
       " '31.10.23 (K).mp3',\n",
       " '7.10.23 (1).mp3',\n",
       " '7.10.23 (2).mp3']"
      ]
     },
     "execution_count": 8,
     "metadata": {},
     "output_type": "execute_result"
    }
   ],
   "source": [
    "import os\n",
    "DIRS = os.walk(\"Toomlal\")\n",
    "LS = [i for i in DIRS]\n",
    "print(LS)\n",
    "LS[0][2]"
   ]
  },
  {
   "cell_type": "code",
   "execution_count": 7,
   "metadata": {},
   "outputs": [],
   "source": [
    "from pydub import AudioSegment\n",
    "for i in LS[0][2]:\n",
    "    sound = AudioSegment.from_file(f\"Toomlal/{i}\", format=\"mp4\")\n",
    "    sound.export(f\"{i.replace('.mp4','')}.mp3\", format=\"mp3\")\n"
   ]
  },
  {
   "cell_type": "code",
   "execution_count": 4,
   "metadata": {},
   "outputs": [
    {
     "data": {
      "text/plain": [
       "<_io.BufferedRandom name='shlomi_levi_sderot.mp3'>"
      ]
     },
     "execution_count": 4,
     "metadata": {},
     "output_type": "execute_result"
    }
   ],
   "source": [
    "from pydub import AudioSegment\n",
    "sound = AudioSegment.from_file(\"shlomi_levi_sderot.mp4\", format=\"mp4\")\n",
    "sound.export(\"shlomi_levi_sderot.mp3\", format=\"mp3\")\n"
   ]
  },
  {
   "cell_type": "markdown",
   "metadata": {},
   "source": [
    "pip install -U openai-whisper\n",
    "\n",
    "Uninstall pytorch\n",
    "\n",
    "pip3 uninstall torch torchvision torchaudio\n",
    "pip 3 cache purge\n",
    "Install cuda-python and Torch cuda\n",
    "pip install cuda-python\n",
    "\n",
    "To install pytorch you can choose your version from the pytorch website https://pytorch.org/ see INSTALL PYTORCH section\n",
    "\n",
    "pip3 install torch torchvision torchaudio --index-url https://download.pytorch.org/whl/cu118"
   ]
  }
 ],
 "metadata": {
  "kernelspec": {
   "display_name": "Python 3",
   "language": "python",
   "name": "python3"
  },
  "language_info": {
   "codemirror_mode": {
    "name": "ipython",
    "version": 3
   },
   "file_extension": ".py",
   "mimetype": "text/x-python",
   "name": "python",
   "nbconvert_exporter": "python",
   "pygments_lexer": "ipython3",
   "version": "3.11.6"
  },
  "orig_nbformat": 4
 },
 "nbformat": 4,
 "nbformat_minor": 2
}
